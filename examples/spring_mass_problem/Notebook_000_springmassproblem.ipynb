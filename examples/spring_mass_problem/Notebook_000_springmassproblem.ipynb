{
 "cells": [
  {
   "cell_type": "markdown",
   "metadata": {},
   "source": [
    "# Spring-mass problem: tracking based on range and range rate\n",
    "\n",
    "Created on 01 January 2018\n",
    "\n",
    "Example 4.8.2 Spring-mass problem\n",
    "pg 216 in  Statistical Orbit Determination, Tapley, Born, Schutz.\n",
    "pg 271 problem 15\n",
    "\n",
    "@author: Ashiv Dhondea"
   ]
  },
  {
   "cell_type": "code",
   "execution_count": 1,
   "metadata": {
    "collapsed": true
   },
   "outputs": [],
   "source": [
    "# Import generic libraries\n",
    "import numpy as np\n",
    "import math"
   ]
  },
  {
   "cell_type": "code",
   "execution_count": 2,
   "metadata": {
    "collapsed": true
   },
   "outputs": [],
   "source": [
    "# Importing what's needed for nice plots.\n",
    "import matplotlib.pyplot as plt\n",
    "from matplotlib import rc\n",
    "rc('font', **{'family': 'serif', 'serif': ['Helvetica']})\n",
    "rc('text', usetex=True)\n",
    "params = {'text.latex.preamble' : [r'\\usepackage{amsmath}', r'\\usepackage{amssymb}']}\n",
    "plt.rcParams.update(params)\n",
    "from mpl_toolkits.axes_grid.anchored_artists import AnchoredText"
   ]
  },
  {
   "cell_type": "markdown",
   "metadata": {},
   "source": [
    "Object of mass $m$ is connected to two fixed walls by springs with spring constants $k_1$ and $k_2$. The sensor used to measure the range $\\rho$ and range-rate $\\dot{\\rho}$ is located at a point $P$ which is at a height of $h$ on the wall to which spring $k_1$ is attached.\n",
    "\n",
    "The initial position and velocity of the object are assumed to be $x_0 = 3.0~\\mathrm{m}$ and $v_0 = 0.0~\\mathrm{m/s}$.\n",
    "\n",
    "The EOM (Equation of Motion) of the body is given by\n",
    "\\begin{equation}\n",
    "\\ddot{x} = - (k_1 + k_2)(x-\\bar{x})/m = -\\omega^2 (x-\\bar{x})\n",
    "\\end{equation}\n",
    "where $x$ is the position of the object, $\\bar{x}$ is its static equilibrium position and $\\omega$ is the angular frequency. $\\bar{x}$ is to 0."
   ]
  },
  {
   "cell_type": "code",
   "execution_count": 3,
   "metadata": {
    "collapsed": true
   },
   "outputs": [],
   "source": [
    "# Parameters for the given problem\n",
    "k1 = 2.5;\n",
    "k2 = 3.7;\n",
    "m = 1.5;\n",
    "h = 5.4;\n",
    "x0 = 3.0;\n",
    "v0 = 0.0;\n",
    "\n",
    "omega2 = (k1+k2)/m;\n",
    "omega = math.sqrt(omega2);"
   ]
  },
  {
   "cell_type": "markdown",
   "metadata": {},
   "source": [
    "From the EOM, it is inferred that an appropriate choice of state vector is\n",
    "\\begin{equation}\n",
    "\\mathbf{X} = \n",
    "\\begin{bmatrix}\n",
    "x \\\\\n",
    "v\n",
    "\\end{bmatrix}\n",
    "\\end{equation}\n",
    "\n",
    "The relationship between position $x$ and velocity $v$ easily leads to a differential equation\n",
    "\\begin{equation}\n",
    "\\frac{dx}{dt} = v\n",
    "\\end{equation}\n",
    "while the relationship between velocity and acceleration leads to another DE.\n",
    "\\begin{equation}\n",
    "\\frac{dv}{dt} = -\\omega^2 x\n",
    "\\end{equation}\n",
    "\n",
    "These two DEs lead to:\n",
    "\\begin{equation}\n",
    "\\frac{d}{dt}\\begin{bmatrix}\n",
    "x \\\\\n",
    "v\n",
    "\\end{bmatrix}\n",
    "=\n",
    "\\begin{bmatrix}\n",
    "v \\\\\n",
    "-\\omega^2 x\n",
    "\\end{bmatrix}\n",
    "\\end{equation}\n",
    "\n",
    "The state space formulation is thus\n",
    "\\begin{equation}\n",
    "\\dot{\\mathbf{X}} = \n",
    "\\begin{bmatrix}\n",
    "0 & 1 \\\\\n",
    "-\\omega^2 & 0\n",
    "\\end{bmatrix}\n",
    "\\mathbf{X} = \\mathbf{A} \\mathbf{X} \n",
    "\\end{equation}\n",
    "\n",
    "Function fn_A implements $\\mathbf{A}$.\n",
    "\n",
    "An analysis of the state space formulation leads to the state transition matrix $\\Phi$ given by\n",
    "\\begin{equation}\n",
    "\\Phi =\n",
    "\\begin{bmatrix}\n",
    "\\cos (\\omega t) & \\frac{1}{\\omega}\\sin (\\omega t) \\\\\n",
    "-\\omega \\sin (\\omega t) & \\cos (\\omega t)\n",
    "\\end{bmatrix}\n",
    "\\end{equation}\n",
    "\n",
    "Check: the determinant of this STM is indeed 1.\n",
    "\n",
    "Function fn_STM implements the STM."
   ]
  },
  {
   "cell_type": "markdown",
   "metadata": {},
   "source": [
    "The sensor measures the range and range-rate to the object.\n",
    "The measurement vector $y$ is related to the state vector $x$ by the measurement function $g$.\n",
    "\\begin{equation}\n",
    "y = \\begin{bmatrix}\n",
    "\\rho \\\\\n",
    "\\dot{\\rho}\n",
    "\\end{bmatrix}\n",
    "=\n",
    "\\begin{bmatrix}\n",
    "\\sqrt{x^2 + h^2}\\\\\n",
    "\\frac{xv}/{\\rho}\n",
    "\\end{bmatrix}\n",
    "\\end{equation}\n",
    "\n",
    "Functin fn_G implements the measurement function $g$.\n",
    "\n",
    "Both the range and range-rate are nonlinear functions of the system state. Therefore, the Jacobian matrix of the measurement function needs to be found for inclusion in the nonlinear tracking filter.\n",
    "\\begin{equation}\n",
    "\\tilde{\\mathbf{H}}(\\mathbf{X}) =\n",
    "\\begin{bmatrix}\n",
    "\\frac{x}{\\rho} & 0 \\\\\n",
    "\\big( \\frac{v}{\\rho} -\\frac{x^2 v}{\\rho^3} \\big) & \\frac{x}{\\rho}\n",
    "\\end{bmatrix}\n",
    "\\end{equation}\n",
    "\n",
    "This is implemented in function fn_Htilde."
   ]
  },
  {
   "cell_type": "code",
   "execution_count": 4,
   "metadata": {
    "collapsed": true
   },
   "outputs": [],
   "source": [
    "# Define the functions given by the stated equations \n",
    "def fn_A(x_state,t,omega):\n",
    "    # eqn 4.8.3\n",
    "    A = np.array([[0.,1.],[-omega**2,0.]],dtype=np.float64);\n",
    "    return A\n",
    "    \n",
    "def fn_G(x_state,h):\n",
    "    # eqn 4.8.4\n",
    "    rho = math.sqrt(x_state[0]**2+h**2);\n",
    "    G = np.array([rho,x_state[0]*x_state[1]/rho],dtype=np.float64);\n",
    "    return G\n",
    "\n",
    "def fn_Htilde(x_state,h):\n",
    "    # Jacobian matrix of G\n",
    "    dx = np.shape(x_state)[0];\n",
    "    x = x_state[0];v=x_state[1];\n",
    "    rhovel = fn_G(x_state,h);\n",
    "    dy=np.shape(rhovel)[0];\n",
    "    rho = rhovel[0];#rhodot=rhovel[1];\n",
    "    Htilde=np.zeros([dy,dx],dtype=np.float64);\n",
    "    Htilde[0,0]=x/rho;\n",
    "    Htilde[1,0]= v/rho - x**2*v/rho**3;\n",
    "    Htilde[1,1]=x/rho;\n",
    "    return Htilde\n",
    "    \n",
    "def fn_STM(t,omega):\n",
    "    stm = np.zeros([2,2],dtype=np.float64);\n",
    "    stm[0,0]=math.cos(omega*t);\n",
    "    stm[0,1]=(1/omega)*math.sin(omega*t);\n",
    "    stm[1,0]=-omega*math.sin(omega*t);\n",
    "    stm[1,1]=math.cos(omega*t);\n",
    "    return stm"
   ]
  },
  {
   "cell_type": "code",
   "execution_count": 5,
   "metadata": {
    "collapsed": false
   },
   "outputs": [],
   "source": [
    "# Define the time step and time vector\n",
    "delta_t = 1.0; # [s]\n",
    "timevec = np.arange(0.,10.+delta_t,delta_t,dtype=np.float64);\n",
    "\n",
    "# Dimensionality of the measurement vector\n",
    "dy = 2; # 2 quantities measured\n",
    "y_meas = np.zeros([dy,len(timevec)],dtype=np.float64); # array of measurements\n",
    "# Load measurements\n",
    "import pandas as pd \n",
    "\n",
    "dframe = pd.read_excel(\"sod_book_pg218_table_4_8_1_data.xlsx\",sheetname=\"Sheet1\")\n",
    "dframe = dframe.reset_index()\n",
    "data_time = dframe['Time'][0:len(timevec)+1]\n",
    "data_range = dframe['Range'][0:len(timevec)+1]\n",
    "data_range_rate = dframe['Range rate'][0:len(timevec)+1]\n",
    "\n",
    "y_meas[0,:] = data_range;\n",
    "y_meas[1,:] = data_range_rate;"
   ]
  },
  {
   "cell_type": "code",
   "execution_count": 6,
   "metadata": {
    "collapsed": false
   },
   "outputs": [],
   "source": [
    "# a priori values\n",
    "x_nom_ini = np.array([4.,0.2],dtype=np.float64); # a priori state vector \n",
    "P_ini = np.diag(np.array([1000.,100.],dtype=np.float64)); # a priori covariance matrix\n",
    "dx = np.shape(x_nom_ini)[0]; # dimensionality of the state vector\n",
    "delta_x_ini = np.zeros([dx],dtype=np.float64); # a priori perturbation vector\n"
   ]
  },
  {
   "cell_type": "code",
   "execution_count": 7,
   "metadata": {
    "collapsed": false
   },
   "outputs": [],
   "source": [
    "def fn_BatchProcessor(delta_x,xnom,Pnom,timevec,y_meas,R_meas,omega,h):\n",
    "    dy = np.shape(R_meas)[0];\n",
    "    # Total observation matrix \n",
    "    TotalObsvMat = np.linalg.inv(Pnom)#np.zeros([dx,dx],dtype=np.float64);\n",
    "    # total observation vector\n",
    "    TotalObsvVec = np.dot(TotalObsvMat,delta_x)#np.zeros([dx],dtype=np.float64);\n",
    "    # simulated perturbation vector\n",
    "    delta_Y = np.zeros([dy],dtype=np.float64);\n",
    "    Rinv = np.linalg.inv(R_meas);\n",
    "    \n",
    "    for index in range(len(timevec)):\n",
    "        stm_nom = fn_STM(timevec[index],omega)\n",
    "        x_state_nom = np.dot(stm_nom,xnom);\n",
    "        H = fn_Htilde(x_state_nom,h)\n",
    "        Hi = np.dot(H,stm_nom);\n",
    "        HiT = np.transpose(Hi);\n",
    "        Ynom = fn_G(x_state_nom,h);\n",
    "        \n",
    "        delta_Y = np.subtract(y_meas[:,index],Ynom);\n",
    "        TotalObsvMat = TotalObsvMat + np.dot(HiT,np.dot(Rinv,Hi));\n",
    "        TotalObsvVec = TotalObsvVec + np.dot(HiT,np.dot(Rinv,delta_Y));\n",
    "        \n",
    "    S_hat = np.linalg.inv(TotalObsvMat);\n",
    "    delta_x = np.dot(S_hat,TotalObsvVec);\n",
    "    x0_hat = xnom + delta_x;\n",
    "    return x0_hat,delta_x,S_hat"
   ]
  },
  {
   "cell_type": "code",
   "execution_count": 8,
   "metadata": {
    "collapsed": true
   },
   "outputs": [],
   "source": [
    "sd_rho = 1.;\n",
    "sd_rhodot = 1.;\n",
    "R_meas = np.diag(np.array([sd_rho**2,sd_rhodot**2],dtype=np.float64));"
   ]
  },
  {
   "cell_type": "code",
   "execution_count": 9,
   "metadata": {
    "collapsed": false
   },
   "outputs": [
    {
     "name": "stdout",
     "output_type": "stream",
     "text": [
      "[  3.00019485e+00   1.18181268e-03]\n",
      "[[ 0.16934803  0.01277539]\n",
      " [ 0.01277539  0.58448166]]\n",
      "0.411519179131\n",
      "0.764514003907\n",
      "0.113028287431\n",
      "0.113028287431\n"
     ]
    }
   ],
   "source": [
    "num_iter = 4;\n",
    "x0_hat = np.zeros([dx,num_iter],dtype=np.float64);\n",
    "S_hat = np.zeros([dx,dx,num_iter],dtype=np.float64);\n",
    "obsv_error = np.zeros([dy,num_iter],dtype=np.float64);\n",
    "\n",
    "\n",
    "xnom_in = x_nom_ini;\n",
    "Pnom_in = P_ini;\n",
    "delta_x_in = delta_x_ini;\n",
    "for i_iter in range (0,num_iter):\n",
    "    x0_hat[:,i_iter],delta_x,S_hat[:,:,i_iter] = fn_BatchProcessor(delta_x_in,xnom_in,Pnom_in,timevec,y_meas,R_meas,omega,h);\n",
    "    xnom_in = x0_hat[:,i_iter];\n",
    "    delta_x_in = delta_x_in - delta_x;\n",
    "    \n",
    "     \n",
    "\n",
    "print x0_hat[:,num_iter-1]\n",
    "print S_hat[:,:,num_iter-1]\n",
    "\n",
    "sigma_x0 = math.sqrt(S_hat[0,0,num_iter-1]);\n",
    "sigma_v0 = math.sqrt(S_hat[1,1,num_iter-1]);\n",
    "sigma_x0v0 = math.sqrt(S_hat[0,1,num_iter-1]);\n",
    "print sigma_x0\n",
    "print sigma_v0\n",
    "print sigma_x0v0 \n",
    "print math.sqrt(S_hat[1,0,num_iter-1]);"
   ]
  },
  {
   "cell_type": "markdown",
   "metadata": {
    "collapsed": true
   },
   "source": [
    "See page 219 in SOD book:\n",
    "The state estimate x0_hat[:,num_iter-1] is identical to the estimate in the book.\n",
    "\n",
    "The standard deviations are identical to those in the book. The correlation coefficient is incorrect.\n"
   ]
  },
  {
   "cell_type": "code",
   "execution_count": null,
   "metadata": {
    "collapsed": true
   },
   "outputs": [],
   "source": []
  }
 ],
 "metadata": {
  "anaconda-cloud": {},
  "kernelspec": {
   "display_name": "Python [Root]",
   "language": "python",
   "name": "Python [Root]"
  },
  "language_info": {
   "codemirror_mode": {
    "name": "ipython",
    "version": 2
   },
   "file_extension": ".py",
   "mimetype": "text/x-python",
   "name": "python",
   "nbconvert_exporter": "python",
   "pygments_lexer": "ipython2",
   "version": "2.7.12"
  }
 },
 "nbformat": 4,
 "nbformat_minor": 0
}
